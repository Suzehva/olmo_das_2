{
 "cells": [
  {
   "cell_type": "code",
   "execution_count": 1,
   "id": "42f0f568",
   "metadata": {},
   "outputs": [],
   "source": [
    "# https://github.com/Suzehva/time_in_language_models_current/blob/main/ii_accuracy/ii_accuracy.py"
   ]
  },
  {
   "cell_type": "code",
   "execution_count": 2,
   "id": "d9aa346e",
   "metadata": {},
   "outputs": [],
   "source": [
    "import numpy as np\n",
    "import random\n",
    "import torch\n",
    "\n",
    "def set_seed(seed):\n",
    "    random.seed(seed)\n",
    "    np.random.seed(seed)\n",
    "    torch.manual_seed(seed)\n",
    "    torch.cuda.manual_seed_all(seed)\n",
    "\n",
    "set_seed(0)\n",
    "\n",
    "device = torch.device(\"cuda\") if torch.cuda.is_available() else torch.device(\"cpu\")"
   ]
  },
  {
   "cell_type": "markdown",
   "id": "eae920eb",
   "metadata": {},
   "source": [
    "## Create all prompts where interchanging should cause the model to switch tenses (past/present/future)"
   ]
  },
  {
   "cell_type": "code",
   "execution_count": 3,
   "id": "701f1b30",
   "metadata": {},
   "outputs": [],
   "source": [
    "# from transformers import AutoConfig, AutoModelForCausalLM, AutoTokenizer\n",
    "\n",
    "model_id = \"allenai/OLMo-2-0425-1B\"\n",
    "revision = None\n",
    "\n",
    "USER = 'aditijb'\n",
    "\n",
    "DATA_DIR = f'/nlp/scr/{USER}/data'\n",
    "MODEL_DIR = f'/nlp/scr/{USER}/models'\n"
   ]
  },
  {
   "cell_type": "code",
   "execution_count": 4,
   "id": "ecc35db0",
   "metadata": {},
   "outputs": [],
   "source": [
    "# from generation_utils import generate_batched\n",
    "\n",
    "# prompt_template = 'In {year} there'\n",
    "# prompts = [prompt_template[0].format(year=year) for year in range(1950, 2050)]\n",
    "# prompt_to_output = generate_batched(model, tokenizer, prompts, max_new_tokens=1)\n",
    "\n",
    "# base_source_prompts = \n",
    "\n"
   ]
  },
  {
   "cell_type": "markdown",
   "id": "e471d3d1",
   "metadata": {},
   "source": [
    "## Heatmap with one prompt\n",
    "    "
   ]
  },
  {
   "cell_type": "code",
   "execution_count": 5,
   "id": "37b2db9d",
   "metadata": {},
   "outputs": [],
   "source": [
    "# from interchange_intervention import InterchangeIntervention\n",
    "# ii_olmo = InterchangeIntervention(model_id=model_id, folder_path=\"heatmap_results\")\n",
    "# base_prompt = \"In 1980 there\"\n",
    "# source_prompt = \"In 2050 there\"\n",
    "# base_src_pairs = [(base_prompt, [source_prompt])]\n",
    "# output_to_measure = [\" was\", \" is\", \" will\"]\n",
    "# base_token_of_interest= \"1980\"\n",
    "# source_token_of_interest = \"2050\"\n",
    "# df_intervention_data_list = ii_olmo.generate_csvs_accuracy(base_src_pairs, output_to_measure, base_token_of_interest=base_token_of_interest)\n",
    "# running_col_avg = ii_olmo.compute_accuracy(base_src_pairs, df_intervention_data_list, base_token_of_interest=base_token_of_interest, source_token_of_interest=source_token_of_interest) \n",
    "# ii_olmo.plot_accuracy(running_col_avg, base_label=base_token_of_interest, source_label=source_token_of_interest, filename=f\"{base_prompt.replace(' ', '_')}<--{source_prompt.replace(' ', '_')}\", token_order=output_to_measure)\n"
   ]
  },
  {
   "cell_type": "code",
   "execution_count": 6,
   "id": "e39ef940",
   "metadata": {},
   "outputs": [
    {
     "name": "stdout",
     "output_type": "stream",
     "text": [
      "nnsight is not detected. Please install via 'pip install nnsight' for nnsight backend.\n"
     ]
    },
    {
     "data": {
      "application/vnd.jupyter.widget-view+json": {
       "model_id": "854b77bd53a94556bb1275e4b494a45b",
       "version_major": 2,
       "version_minor": 0
      },
      "text/plain": [
       "config.json:   0%|          | 0.00/623 [00:00<?, ?B/s]"
      ]
     },
     "metadata": {},
     "output_type": "display_data"
    },
    {
     "name": "stderr",
     "output_type": "stream",
     "text": [
      "`torch_dtype` is deprecated! Use `dtype` instead!\n"
     ]
    },
    {
     "data": {
      "application/vnd.jupyter.widget-view+json": {
       "model_id": "4c52449a8aad4a3e8f78eda8cde425a0",
       "version_major": 2,
       "version_minor": 0
      },
      "text/plain": [
       "model.safetensors.index.json: 0.00B [00:00, ?B/s]"
      ]
     },
     "metadata": {},
     "output_type": "display_data"
    },
    {
     "data": {
      "application/vnd.jupyter.widget-view+json": {
       "model_id": "bb6af7bbf4f6405fac36bde3961254f9",
       "version_major": 2,
       "version_minor": 0
      },
      "text/plain": [
       "Fetching 2 files:   0%|          | 0/2 [00:00<?, ?it/s]"
      ]
     },
     "metadata": {},
     "output_type": "display_data"
    },
    {
     "data": {
      "application/vnd.jupyter.widget-view+json": {
       "model_id": "5c811af2862f48a8afcb997ef39a69e8",
       "version_major": 2,
       "version_minor": 0
      },
      "text/plain": [
       "model-00002-of-00002.safetensors:   0%|          | 0.00/956M [00:00<?, ?B/s]"
      ]
     },
     "metadata": {},
     "output_type": "display_data"
    },
    {
     "data": {
      "application/vnd.jupyter.widget-view+json": {
       "model_id": "ca9d8d60f41e4f4d8615fb2c3e3fe20c",
       "version_major": 2,
       "version_minor": 0
      },
      "text/plain": [
       "model-00001-of-00002.safetensors:   0%|          | 0.00/4.98G [00:00<?, ?B/s]"
      ]
     },
     "metadata": {},
     "output_type": "display_data"
    },
    {
     "data": {
      "application/vnd.jupyter.widget-view+json": {
       "model_id": "1e2a47e5460a474993a3f83c656b3124",
       "version_major": 2,
       "version_minor": 0
      },
      "text/plain": [
       "Loading checkpoint shards:   0%|          | 0/2 [00:00<?, ?it/s]"
      ]
     },
     "metadata": {},
     "output_type": "display_data"
    },
    {
     "data": {
      "application/vnd.jupyter.widget-view+json": {
       "model_id": "a15bd5e2ea7047aeb9c22b9e090e5acf",
       "version_major": 2,
       "version_minor": 0
      },
      "text/plain": [
       "generation_config.json:   0%|          | 0.00/121 [00:00<?, ?B/s]"
      ]
     },
     "metadata": {},
     "output_type": "display_data"
    },
    {
     "data": {
      "application/vnd.jupyter.widget-view+json": {
       "model_id": "bfe841478b0a4424be96c3d15857c02b",
       "version_major": 2,
       "version_minor": 0
      },
      "text/plain": [
       "tokenizer_config.json: 0.00B [00:00, ?B/s]"
      ]
     },
     "metadata": {},
     "output_type": "display_data"
    },
    {
     "data": {
      "application/vnd.jupyter.widget-view+json": {
       "model_id": "87484a8857e54e258abf8ffe1f39d2de",
       "version_major": 2,
       "version_minor": 0
      },
      "text/plain": [
       "vocab.json: 0.00B [00:00, ?B/s]"
      ]
     },
     "metadata": {},
     "output_type": "display_data"
    },
    {
     "data": {
      "application/vnd.jupyter.widget-view+json": {
       "model_id": "c4d4853b38e64b2591697e547a245c3a",
       "version_major": 2,
       "version_minor": 0
      },
      "text/plain": [
       "merges.txt: 0.00B [00:00, ?B/s]"
      ]
     },
     "metadata": {},
     "output_type": "display_data"
    },
    {
     "data": {
      "application/vnd.jupyter.widget-view+json": {
       "model_id": "f6a8e916544f47a08ea558d3657a5beb",
       "version_major": 2,
       "version_minor": 0
      },
      "text/plain": [
       "tokenizer.json: 0.00B [00:00, ?B/s]"
      ]
     },
     "metadata": {},
     "output_type": "display_data"
    },
    {
     "data": {
      "application/vnd.jupyter.widget-view+json": {
       "model_id": "3cc92402be8c49bd981b7c545ad96a3e",
       "version_major": 2,
       "version_minor": 0
      },
      "text/plain": [
       "special_tokens_map.json:   0%|          | 0.00/125 [00:00<?, ?B/s]"
      ]
     },
     "metadata": {},
     "output_type": "display_data"
    },
    {
     "name": "stdout",
     "output_type": "stream",
     "text": [
      "loaded model\n"
     ]
    }
   ],
   "source": [
    "import pandas as pd\n",
    "import pyvene\n",
    "from pyvene import embed_to_distrib, top_vals, format_token\n",
    "from pyvene import RepresentationConfig, IntervenableConfig, IntervenableModel\n",
    "from pyvene import VanillaIntervention\n",
    "\n",
    "%config InlineBackend.figure_formats = ['svg']\n",
    "from plotnine import (\n",
    "    ggplot,\n",
    "    geom_tile,\n",
    "    aes,\n",
    "    facet_wrap,\n",
    "    theme,\n",
    "    element_text,\n",
    "    geom_bar,\n",
    "    geom_hline,\n",
    "    scale_y_log10,\n",
    ")\n",
    "\n",
    "config, tokenizer, olmo = pyvene.create_olmo2(name=\"allenai/OLMo-2-0425-1B\")\n"
   ]
  },
  {
   "cell_type": "code",
   "execution_count": 7,
   "id": "e98155d4",
   "metadata": {},
   "outputs": [],
   "source": [
    "\n",
    "def simple_position_config(model_type, component, layer):\n",
    "    config = IntervenableConfig(\n",
    "        model_type=model_type,\n",
    "        representations=[\n",
    "            RepresentationConfig(\n",
    "                layer,              # layer\n",
    "                component,          # component\n",
    "                \"pos\",              # intervention unit\n",
    "                1,                  # max number of unit\n",
    "            ),\n",
    "        ],\n",
    "        intervention_types=VanillaIntervention,\n",
    "    )\n",
    "    return config\n",
    "\n",
    "\n",
    "base = tokenizer(\"In 1981 there\", return_tensors=\"pt\")\n",
    "sources = [tokenizer(\"In 2023 there\", return_tensors=\"pt\")]\n",
    "tokens = tokenizer.encode(\" was will\")\n",
    "data = []\n",
    "\n",
    "for layer_i in range(olmo.config.num_hidden_layers):\n",
    "    config = simple_position_config(type(olmo), \"block_output\", layer_i) # TODO don't use MLP\n",
    "    intervenable = IntervenableModel(config, olmo)\n",
    "    for pos_i in range(len(base.input_ids[0])):\n",
    "        \n",
    "        _, counterfactual_outputs = intervenable(\n",
    "            base, sources, {\"sources->base\": pos_i}\n",
    "        )\n",
    "        logits = counterfactual_outputs.logits\n",
    "        distrib = torch.softmax(logits, dim=-1)\n",
    "        # distrib = embed_to_distrib(\n",
    "        #     olmo, counterfactual_outputs.hidden_states[-1], logits=False\n",
    "        # )\n",
    "        # Get the token at the intervention position\n",
    "        intervention_token_id = base.input_ids[0][pos_i].item()\n",
    "        intervention_token = format_token(tokenizer, intervention_token_id)\n",
    "        \n",
    "\n",
    "        for token in tokens:\n",
    "            data.append(\n",
    "                {\n",
    "                    \"token\": format_token(tokenizer, token),\n",
    "                    \"prob\": float(distrib[0][-1][token]),\n",
    "                    \"layer\": f\"f{layer_i}\",\n",
    "                    \"pos\": pos_i,\n",
    "                    \"intervention_token\": intervention_token,  # Added this line\n",
    "                    \"type\": \"block_output\",\n",
    "                }\n",
    "            )\n",
    "\n",
    "df = pd.DataFrame(data)"
   ]
  },
  {
   "cell_type": "code",
   "execution_count": 11,
   "id": "4ff165a7",
   "metadata": {},
   "outputs": [
    {
     "data": {
      "image/png": "[encoded data removed]"
     },
     "metadata": {
      "image/png": {
       "height": 600,
       "width": 800
      }
     },
     "output_type": "display_data"
    }
   ],
   "source": [
    "import torch\n",
    "from plotnine import options\n",
    "\n",
    "df[\"layer\"] = df[\"layer\"].astype(\"category\")\n",
    "df[\"token\"] = df[\"token\"].astype(\"category\")\n",
    "\n",
    "# layers with 0 at bottom, 15 at top\n",
    "layer_nodes = [f\"f{l}\" for l in range(olmo.config.num_hidden_layers)]\n",
    "df[\"layer\"] = pd.Categorical(df[\"layer\"], categories=layer_nodes, ordered=True)\n",
    "\n",
    "# Order intervention tokens by their position in the sentence\n",
    "intervention_token_order = []\n",
    "for pos_i in range(len(base.input_ids[0])):\n",
    "    intervention_token_id = base.input_ids[0][pos_i].item()\n",
    "    intervention_token = format_token(tokenizer, intervention_token_id)\n",
    "    intervention_token_order.append(intervention_token)\n",
    "\n",
    "df[\"intervention_token\"] = pd.Categorical(\n",
    "    df[\"intervention_token\"],\n",
    "    categories=intervention_token_order,\n",
    "    ordered=True\n",
    ")\n",
    "\n",
    "g = (\n",
    "    ggplot(df)\n",
    "    + geom_tile(aes(x=\"intervention_token\", y=\"layer\", fill=\"prob\"), raster=False)\n",
    "    + facet_wrap(\"~token\")\n",
    "    + theme(axis_text_x=element_text(rotation=90))\n",
    ")\n",
    "\n",
    "options.figure_size = (8, 6)  # optional\n",
    "g\n"
   ]
  }
 ],
 "metadata": {
  "kernelspec": {
   "display_name": "time-env",
   "language": "python",
   "name": "python3"
  },
  "language_info": {
   "codemirror_mode": {
    "name": "ipython",
    "version": 3
   },
   "file_extension": ".py",
   "mimetype": "text/x-python",
   "name": "python",
   "nbconvert_exporter": "python",
   "pygments_lexer": "ipython3",
   "version": "3.10.18"
  }
 },
 "nbformat": 4,
 "nbformat_minor": 5
}
